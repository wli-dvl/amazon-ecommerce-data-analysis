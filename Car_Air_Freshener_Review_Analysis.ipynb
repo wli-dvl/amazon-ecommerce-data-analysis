{
  "nbformat": 4,
  "nbformat_minor": 0,
  "metadata": {
    "colab": {
      "provenance": [],
      "authorship_tag": "ABX9TyOBVyT2V0+IkzisB7pS8KFr",
      "include_colab_link": true
    },
    "kernelspec": {
      "name": "python3",
      "display_name": "Python 3"
    },
    "language_info": {
      "name": "python"
    }
  },
  "cells": [
    {
      "cell_type": "markdown",
      "metadata": {
        "id": "view-in-github",
        "colab_type": "text"
      },
      "source": [
        "<a href=\"https://colab.research.google.com/github/wli-dvl/amazon-ecommerce-data-analysis/blob/main/Car_Air_Freshener_Review_Analysis.ipynb\" target=\"_parent\"><img src=\"https://colab.research.google.com/assets/colab-badge.svg\" alt=\"Open In Colab\"/></a>"
      ]
    },
    {
      "cell_type": "code",
      "source": [
        "!pip install gensim"
      ],
      "metadata": {
        "id": "0Si0gVIiXsl4"
      },
      "execution_count": null,
      "outputs": []
    },
    {
      "cell_type": "code",
      "execution_count": null,
      "metadata": {
        "id": "D1Di7zRCKdXV"
      },
      "outputs": [],
      "source": [
        "# 1. Setup\n",
        "import pandas as pd\n",
        "import nltk\n",
        "from nltk.corpus import stopwords\n",
        "from textblob import TextBlob\n",
        "from gensim import corpora, models\n",
        "import matplotlib.pyplot as plt\n",
        "import seaborn as sns\n",
        "\n",
        "nltk.download('punkt_tab')\n",
        "nltk.download('stopwords')"
      ]
    },
    {
      "cell_type": "code",
      "source": [
        "# 2. Load Data\n",
        "reviews = pd.read_csv(\"Review Data.csv\")\n",
        "reviews = reviews[['Body', 'Rating']].dropna()\n",
        "reviews = reviews.rename(columns={'Body': 'reviewText', 'Rating': 'overall'})"
      ],
      "metadata": {
        "id": "gt8MYAaOOwZL"
      },
      "execution_count": null,
      "outputs": []
    },
    {
      "cell_type": "code",
      "source": [
        "# 3. Sentiment Analysis\n",
        "reviews['sentiment'] = reviews['reviewText'].apply(lambda x: TextBlob(str(x)).sentiment.polarity)"
      ],
      "metadata": {
        "id": "23V7UFreOwWp"
      },
      "execution_count": null,
      "outputs": []
    },
    {
      "cell_type": "code",
      "source": [
        "reviews_sorted = reviews.sort_values(by='sentiment', ascending=True)\n",
        "reviews_sorted[['reviewText', 'sentiment','overall']]"
      ],
      "metadata": {
        "id": "FRdTmI7HZkEp"
      },
      "execution_count": null,
      "outputs": []
    },
    {
      "cell_type": "code",
      "source": [
        "# 4. Visualization\n",
        "sns.boxplot(data=reviews, x='overall', y='sentiment')\n",
        "plt.title('Sentiment Score by Star Rating')\n",
        "plt.xlabel('Star Rating')\n",
        "plt.ylabel('Sentiment Polarity')\n",
        "plt.show()"
      ],
      "metadata": {
        "id": "vs0V5_STOwRe"
      },
      "execution_count": null,
      "outputs": []
    },
    {
      "cell_type": "code",
      "source": [
        "plt.figure(figsize=(8, 6))\n",
        "sns.countplot(data=reviews, x='overall', palette='viridis')\n",
        "plt.title('Count of Reviews per Rating')\n",
        "plt.xlabel('Rating')\n",
        "plt.ylabel('Number of Reviews')\n",
        "plt.show()"
      ],
      "metadata": {
        "id": "3VpwRBSiYDqf"
      },
      "execution_count": null,
      "outputs": []
    },
    {
      "cell_type": "code",
      "source": [
        "# 5. Topic Modeling\n",
        "from nltk.tokenize import word_tokenize\n",
        "stop_words = set(stopwords.words('english'))\n",
        "\n",
        "def preprocess(text):\n",
        "    tokens = word_tokenize(str(text).lower())\n",
        "    return [w for w in tokens if w.isalpha() and w not in stop_words and len(w) > 2]\n",
        "\n",
        "reviews['tokens'] = reviews['reviewText'].apply(preprocess)"
      ],
      "metadata": {
        "id": "QASOZWt2OwMk"
      },
      "execution_count": null,
      "outputs": []
    },
    {
      "cell_type": "code",
      "source": [
        "reviews"
      ],
      "metadata": {
        "id": "XzofR1vaOwKL"
      },
      "execution_count": null,
      "outputs": []
    },
    {
      "cell_type": "code",
      "source": [
        "dictionary = corpora.Dictionary(reviews['tokens'])\n",
        "corpus = [dictionary.doc2bow(text) for text in reviews['tokens']]\n",
        "lda_model = models.LdaModel(corpus, num_topics=3, id2word=dictionary, passes=20)\n",
        "lda_model.show_topics()"
      ],
      "metadata": {
        "id": "uHhc0owoOwH2"
      },
      "execution_count": null,
      "outputs": []
    },
    {
      "cell_type": "code",
      "source": [
        "dictionary = corpora.Dictionary(reviews['tokens'])\n",
        "corpus = [dictionary.doc2bow(text) for text in reviews['tokens']]\n",
        "lda_model = models.LdaModel(corpus, num_topics=2, id2word=dictionary, passes=20)\n",
        "lda_model.print_topics()"
      ],
      "metadata": {
        "id": "ffl22owDOwFV"
      },
      "execution_count": null,
      "outputs": []
    },
    {
      "cell_type": "code",
      "source": [],
      "metadata": {
        "id": "YtZMxOX6nF1O"
      },
      "execution_count": null,
      "outputs": []
    },
    {
      "cell_type": "markdown",
      "source": [
        "# Filter for <=3 ratings"
      ],
      "metadata": {
        "id": "GuHRsZS4nGtm"
      }
    },
    {
      "cell_type": "code",
      "source": [
        "negative_reviews = reviews[reviews['overall'] <= 3]\n",
        "negative_reviews['tokens'] = negative_reviews['reviewText'].apply(preprocess)"
      ],
      "metadata": {
        "id": "OcuyCbvhOwCh"
      },
      "execution_count": null,
      "outputs": []
    },
    {
      "cell_type": "code",
      "source": [
        "dictionary = corpora.Dictionary(negative_reviews['tokens'])\n",
        "corpus = [dictionary.doc2bow(text) for text in negative_reviews['tokens']]\n",
        "lda_model = models.LdaModel(corpus, num_topics=3, id2word=dictionary, passes=20)\n",
        "lda_model.print_topics()"
      ],
      "metadata": {
        "id": "6psg6v8tmCc3"
      },
      "execution_count": null,
      "outputs": []
    },
    {
      "cell_type": "code",
      "source": [],
      "metadata": {
        "id": "qBvJGJ66nMlR"
      },
      "execution_count": null,
      "outputs": []
    },
    {
      "cell_type": "markdown",
      "source": [
        "# Adding common phrases"
      ],
      "metadata": {
        "id": "EK5nYJjGnM7z"
      }
    },
    {
      "cell_type": "code",
      "source": [
        "from gensim.models import Phrases\n",
        "bigram = Phrases(reviews['tokens'], min_count=3, threshold=5)\n",
        "bigram_mod = Phrases(bigram[reviews['tokens']])\n",
        "reviews['tokens'] = [bigram[doc] for doc in reviews['tokens']]"
      ],
      "metadata": {
        "id": "5QIid4VJmKVM"
      },
      "execution_count": null,
      "outputs": []
    },
    {
      "cell_type": "code",
      "source": [
        "reviews"
      ],
      "metadata": {
        "id": "4PCOv-sNm01h"
      },
      "execution_count": null,
      "outputs": []
    },
    {
      "cell_type": "code",
      "source": [
        "dictionary = corpora.Dictionary(reviews['tokens'])\n",
        "corpus = [dictionary.doc2bow(text) for text in reviews['tokens']]\n",
        "lda_model = models.LdaModel(corpus, num_topics=3, id2word=dictionary, passes=20)\n",
        "lda_model.print_topics()"
      ],
      "metadata": {
        "id": "5tMWGZ64mwLR"
      },
      "execution_count": null,
      "outputs": []
    },
    {
      "cell_type": "code",
      "source": [
        "negative_reviews = reviews[reviews['overall'] <= 3]\n",
        "negative_reviews['tokens'] = negative_reviews['reviewText'].apply(preprocess)\n",
        "dictionary = corpora.Dictionary(negative_reviews['tokens'])\n",
        "corpus = [dictionary.doc2bow(text) for text in negative_reviews['tokens']]\n",
        "lda_model = models.LdaModel(corpus, num_topics=3, id2word=dictionary, passes=20)\n",
        "lda_model.print_topics()"
      ],
      "metadata": {
        "id": "6mdAD5OPmx64"
      },
      "execution_count": null,
      "outputs": []
    },
    {
      "cell_type": "code",
      "source": [
        "from wordcloud import WordCloud\n",
        "\n",
        "text = \" \".join(reviews['reviewText'])\n",
        "wordcloud = WordCloud(width=800, height=400, background_color='white').generate(text)\n",
        "\n",
        "plt.figure(figsize=(10,5))\n",
        "plt.imshow(wordcloud, interpolation='bilinear')\n",
        "plt.axis('off')\n",
        "plt.show()"
      ],
      "metadata": {
        "id": "bkVSK9UvoL7Q"
      },
      "execution_count": null,
      "outputs": []
    },
    {
      "cell_type": "markdown",
      "source": [
        "# Trying facebook model"
      ],
      "metadata": {
        "id": "YOhxLKTBpQfx"
      }
    },
    {
      "cell_type": "code",
      "source": [
        "!pip install transformers"
      ],
      "metadata": {
        "id": "1wW7NUc1okCL"
      },
      "execution_count": null,
      "outputs": []
    },
    {
      "cell_type": "code",
      "source": [
        "from transformers import pipeline\n",
        "\n",
        "# Load the zero-shot classification pipeline\n",
        "classifier = pipeline(\"zero-shot-classification\", model=\"facebook/bart-large-mnli\")"
      ],
      "metadata": {
        "id": "0Ei3ezu-pUTm"
      },
      "execution_count": null,
      "outputs": []
    },
    {
      "cell_type": "code",
      "source": [
        "candidate_labels = [\n",
        "    \"scent lasts long\",\n",
        "    \"smells great\",\n",
        "    \"disappointing longevity\",\n",
        "    \"poor packaging\",\n",
        "    \"worth the money\",\n",
        "    \"too expensive\",\n",
        "    \"chemical smell\"\n",
        "]\n"
      ],
      "metadata": {
        "id": "oj1jO73KpW5V"
      },
      "execution_count": null,
      "outputs": []
    },
    {
      "cell_type": "code",
      "source": [
        "review = \"Smells amazing at first but fades in less than a day.\"\n",
        "\n",
        "result = classifier(review, candidate_labels, multi_label=False)\n",
        "\n",
        "print(\"Predicted label:\", result['labels'][0])\n",
        "print(\"Confidence:\", result['scores'][0])\n"
      ],
      "metadata": {
        "id": "pVwjpsfgpanb"
      },
      "execution_count": null,
      "outputs": []
    },
    {
      "cell_type": "code",
      "source": [
        "reviews['zero_shot_label'] = reviews['reviewText'].apply(\n",
        "    lambda x: classifier(str(x), candidate_labels, multi_label=False)['labels'][0]\n",
        ")"
      ],
      "metadata": {
        "id": "BiXDiPE1pdkz"
      },
      "execution_count": null,
      "outputs": []
    },
    {
      "cell_type": "code",
      "source": [
        "reviews"
      ],
      "metadata": {
        "id": "OFW2Pen7px9l"
      },
      "execution_count": null,
      "outputs": []
    },
    {
      "source": [
        "from matplotlib import pyplot as plt\n",
        "import seaborn as sns\n",
        "reviews.groupby('zero_shot_label').size().plot(kind='barh', color=sns.palettes.mpl_palette('Dark2'))\n",
        "plt.gca().spines[['top', 'right',]].set_visible(False)"
      ],
      "cell_type": "code",
      "metadata": {
        "id": "oXOM8QlarJUj"
      },
      "execution_count": null,
      "outputs": []
    },
    {
      "cell_type": "code",
      "source": [
        "reviews[reviews['zero_shot_label'] == 'scent lasts long']"
      ],
      "metadata": {
        "id": "X-FgZTurrKMd"
      },
      "execution_count": null,
      "outputs": []
    },
    {
      "cell_type": "code",
      "source": [],
      "metadata": {
        "id": "4xnCnaS8sIiR"
      },
      "execution_count": null,
      "outputs": []
    },
    {
      "cell_type": "code",
      "metadata": {
        "id": "5c3509dc"
      },
      "source": [],
      "execution_count": null,
      "outputs": []
    }
  ]
}